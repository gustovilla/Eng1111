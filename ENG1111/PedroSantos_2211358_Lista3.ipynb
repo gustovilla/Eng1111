{
  "nbformat": 4,
  "nbformat_minor": 0,
  "metadata": {
    "colab": {
      "provenance": [],
      "name": "PedroSantos_2211358_Lista3.ipynb"
    },
    "kernelspec": {
      "name": "python3",
      "display_name": "Python 3"
    },
    "language_info": {
      "name": "python"
    }
  },
  "cells": [
    {
      "cell_type": "markdown",
      "source": [
        "#Salve a base de dados escolhida no seu drive e importe para um notebook do Colab, criando um Dataframe"
      ],
      "metadata": {
        "id": "au-9p963gNiS"
      }
    },
    {
      "cell_type": "code",
      "execution_count": 2,
      "metadata": {
        "colab": {
          "base_uri": "https://localhost:8080/"
        },
        "id": "acpKmttnZeh9",
        "outputId": "f31d58e3-c3b5-4634-e233-1ce051bd7d2e"
      },
      "outputs": [
        {
          "output_type": "stream",
          "name": "stdout",
          "text": [
            "Drive already mounted at /drive; to attempt to forcibly remount, call drive.mount(\"/drive\", force_remount=True).\n"
          ]
        }
      ],
      "source": [
        "import pandas as pd\n",
        "from google.colab import drive\n",
        "import numpy as np\n",
        "import random\n",
        "\n",
        "drive.mount('/drive')\n",
        "titanic = pd.read_csv(\"/drive/MyDrive/titanic/class_titanic.csv\")"
      ]
    },
    {
      "cell_type": "markdown",
      "source": [
        "#Inspecione as colunas do conjunto de dados (Nome das colunas e tipo de dados)"
      ],
      "metadata": {
        "id": "HeOpjcm7gL47"
      }
    },
    {
      "cell_type": "code",
      "source": [
        "titanic.info()"
      ],
      "metadata": {
        "colab": {
          "base_uri": "https://localhost:8080/"
        },
        "id": "ICtgMR8dh6nC",
        "outputId": "f09419db-8ad1-433f-cf30-f8e2dc598e9e"
      },
      "execution_count": 3,
      "outputs": [
        {
          "output_type": "stream",
          "name": "stdout",
          "text": [
            "<class 'pandas.core.frame.DataFrame'>\n",
            "RangeIndex: 891 entries, 0 to 890\n",
            "Data columns (total 12 columns):\n",
            " #   Column       Non-Null Count  Dtype  \n",
            "---  ------       --------------  -----  \n",
            " 0   PassengerId  891 non-null    int64  \n",
            " 1   Pclass       891 non-null    int64  \n",
            " 2   Name         891 non-null    object \n",
            " 3   Sex          891 non-null    object \n",
            " 4   Age          714 non-null    float64\n",
            " 5   SibSp        891 non-null    int64  \n",
            " 6   Parch        891 non-null    int64  \n",
            " 7   Ticket       891 non-null    object \n",
            " 8   Fare         891 non-null    float64\n",
            " 9   Cabin        204 non-null    object \n",
            " 10  Embarked     889 non-null    object \n",
            " 11  Survived     891 non-null    int64  \n",
            "dtypes: float64(2), int64(5), object(5)\n",
            "memory usage: 83.7+ KB\n"
          ]
        }
      ]
    },
    {
      "cell_type": "markdown",
      "source": [
        "#Escolha uma coluna com valores numéricos e apague todas as linhas que possuam valor nulo"
      ],
      "metadata": {
        "id": "gv-QEOdujHsx"
      }
    },
    {
      "cell_type": "code",
      "source": [
        "titanic=titanic.dropna(subset=[\"Age\"])\n",
        "titanic.info()"
      ],
      "metadata": {
        "colab": {
          "base_uri": "https://localhost:8080/"
        },
        "id": "md6a-C0VjItP",
        "outputId": "e4885124-f24b-45b4-a502-acd85e99ca99"
      },
      "execution_count": 4,
      "outputs": [
        {
          "output_type": "stream",
          "name": "stdout",
          "text": [
            "<class 'pandas.core.frame.DataFrame'>\n",
            "Int64Index: 714 entries, 0 to 890\n",
            "Data columns (total 12 columns):\n",
            " #   Column       Non-Null Count  Dtype  \n",
            "---  ------       --------------  -----  \n",
            " 0   PassengerId  714 non-null    int64  \n",
            " 1   Pclass       714 non-null    int64  \n",
            " 2   Name         714 non-null    object \n",
            " 3   Sex          714 non-null    object \n",
            " 4   Age          714 non-null    float64\n",
            " 5   SibSp        714 non-null    int64  \n",
            " 6   Parch        714 non-null    int64  \n",
            " 7   Ticket       714 non-null    object \n",
            " 8   Fare         714 non-null    float64\n",
            " 9   Cabin        185 non-null    object \n",
            " 10  Embarked     712 non-null    object \n",
            " 11  Survived     714 non-null    int64  \n",
            "dtypes: float64(2), int64(5), object(5)\n",
            "memory usage: 72.5+ KB\n"
          ]
        }
      ]
    },
    {
      "cell_type": "markdown",
      "source": [
        "#Calcule a média desta mesma coluna"
      ],
      "metadata": {
        "id": "3zzqzG1couxI"
      }
    },
    {
      "cell_type": "code",
      "source": [
        "media = titanic[\"Age\"].mean()\n",
        "print(media)"
      ],
      "metadata": {
        "colab": {
          "base_uri": "https://localhost:8080/"
        },
        "id": "bVpXSbgbov_K",
        "outputId": "684aef4e-9373-4e34-edab-5230901efe9d"
      },
      "execution_count": 5,
      "outputs": [
        {
          "output_type": "stream",
          "name": "stdout",
          "text": [
            "29.69911764705882\n"
          ]
        }
      ]
    },
    {
      "cell_type": "markdown",
      "source": [
        "#Escolha um critério para eliminar as linhas que possuam valores muito distantes da média e crie um novo Dataframe."
      ],
      "metadata": {
        "id": "FySNKmqlxxDo"
      }
    },
    {
      "cell_type": "code",
      "source": [
        "elimina1=titanic[\"Age\"] > 20\n",
        "elimina2=titanic[\"Age\"] < 40\n",
        "\n",
        "titanic=titanic[elimina1]\n",
        "titanic=titanic[elimina2]\n",
        "\n",
        "titanic.info()"
      ],
      "metadata": {
        "colab": {
          "base_uri": "https://localhost:8080/"
        },
        "id": "s-Z0H_9Bx14b",
        "outputId": "fb782e62-dae6-4e6e-dbf2-2ca7e14f2ba4"
      },
      "execution_count": 6,
      "outputs": [
        {
          "output_type": "stream",
          "name": "stdout",
          "text": [
            "<class 'pandas.core.frame.DataFrame'>\n",
            "Int64Index: 372 entries, 0 to 890\n",
            "Data columns (total 12 columns):\n",
            " #   Column       Non-Null Count  Dtype  \n",
            "---  ------       --------------  -----  \n",
            " 0   PassengerId  372 non-null    int64  \n",
            " 1   Pclass       372 non-null    int64  \n",
            " 2   Name         372 non-null    object \n",
            " 3   Sex          372 non-null    object \n",
            " 4   Age          372 non-null    float64\n",
            " 5   SibSp        372 non-null    int64  \n",
            " 6   Parch        372 non-null    int64  \n",
            " 7   Ticket       372 non-null    object \n",
            " 8   Fare         372 non-null    float64\n",
            " 9   Cabin        86 non-null     object \n",
            " 10  Embarked     371 non-null    object \n",
            " 11  Survived     372 non-null    int64  \n",
            "dtypes: float64(2), int64(5), object(5)\n",
            "memory usage: 37.8+ KB\n"
          ]
        },
        {
          "output_type": "stream",
          "name": "stderr",
          "text": [
            "/usr/local/lib/python3.7/dist-packages/ipykernel_launcher.py:5: UserWarning: Boolean Series key will be reindexed to match DataFrame index.\n",
            "  \"\"\"\n"
          ]
        }
      ]
    },
    {
      "cell_type": "markdown",
      "source": [
        "#Crie um novo Dataframe que contenha apenas 5 colunas do conjunto anterior."
      ],
      "metadata": {
        "id": "7_kEXznzAhXi"
      }
    },
    {
      "cell_type": "code",
      "source": [
        "newTitanic = titanic.iloc[:,:5]\n",
        "newTitanic.info()"
      ],
      "metadata": {
        "id": "yjTWmxr4Ak_e",
        "colab": {
          "base_uri": "https://localhost:8080/"
        },
        "outputId": "6c262360-7fe4-47ee-c07f-8948df977697"
      },
      "execution_count": 7,
      "outputs": [
        {
          "output_type": "stream",
          "name": "stdout",
          "text": [
            "<class 'pandas.core.frame.DataFrame'>\n",
            "Int64Index: 372 entries, 0 to 890\n",
            "Data columns (total 5 columns):\n",
            " #   Column       Non-Null Count  Dtype  \n",
            "---  ------       --------------  -----  \n",
            " 0   PassengerId  372 non-null    int64  \n",
            " 1   Pclass       372 non-null    int64  \n",
            " 2   Name         372 non-null    object \n",
            " 3   Sex          372 non-null    object \n",
            " 4   Age          372 non-null    float64\n",
            "dtypes: float64(1), int64(2), object(2)\n",
            "memory usage: 17.4+ KB\n"
          ]
        }
      ]
    },
    {
      "cell_type": "markdown",
      "source": [
        "#Escolha duas colunas numéricas e crie uma nova coluna que siga a regra: (Coluna A - Coluna B)*número aleatório (entre 0 e 1)."
      ],
      "metadata": {
        "id": "2LvAX32MXpLv"
      }
    },
    {
      "cell_type": "code",
      "source": [
        "newTitanic.insert(5,\"newColuna\",((newTitanic[\"Pclass\"]-newTitanic[\"Age\"])*random.random()))\n",
        "newTitanic.info()"
      ],
      "metadata": {
        "colab": {
          "base_uri": "https://localhost:8080/"
        },
        "id": "7EpyOTfEXrVN",
        "outputId": "74522e52-a9c6-4317-e972-da22321c5873"
      },
      "execution_count": 8,
      "outputs": [
        {
          "output_type": "stream",
          "name": "stdout",
          "text": [
            "<class 'pandas.core.frame.DataFrame'>\n",
            "Int64Index: 372 entries, 0 to 890\n",
            "Data columns (total 6 columns):\n",
            " #   Column       Non-Null Count  Dtype  \n",
            "---  ------       --------------  -----  \n",
            " 0   PassengerId  372 non-null    int64  \n",
            " 1   Pclass       372 non-null    int64  \n",
            " 2   Name         372 non-null    object \n",
            " 3   Sex          372 non-null    object \n",
            " 4   Age          372 non-null    float64\n",
            " 5   newColuna    372 non-null    float64\n",
            "dtypes: float64(2), int64(2), object(2)\n",
            "memory usage: 20.3+ KB\n"
          ]
        }
      ]
    },
    {
      "cell_type": "markdown",
      "source": [
        "#Embaralhe aleatoriamente o dataframe (índices e valores)."
      ],
      "metadata": {
        "id": "O4Xuwr_alU6I"
      }
    },
    {
      "cell_type": "code",
      "source": [
        "newTitanic.reindex(np.random.permutation(newTitanic.index))"
      ],
      "metadata": {
        "id": "iWKHy2f5lX9j",
        "colab": {
          "base_uri": "https://localhost:8080/",
          "height": 424
        },
        "outputId": "0c2fe00e-b8d5-4eaa-ac14-dee38c03c7cb"
      },
      "execution_count": 9,
      "outputs": [
        {
          "output_type": "execute_result",
          "data": {
            "text/plain": [
              "     PassengerId  Pclass                                               Name  \\\n",
              "73            74       3                        Chronopoulos, Mr. Apostolos   \n",
              "85            86       3  Backstrom, Mrs. Karl Alfred (Maria Mathilda Gu...   \n",
              "148          149       2           Navratil, Mr. Michel (\"Louis M Hoffman\")   \n",
              "652          653       3                     Kalvik, Mr. Johannes Halvorsen   \n",
              "141          142       3                           Nysten, Miss. Anna Sofia   \n",
              "..           ...     ...                                                ...   \n",
              "199          200       2             Yrois, Miss. Henriette (\"Mrs Harbeck\")   \n",
              "179          180       3                                Leonard, Mr. Lionel   \n",
              "769          770       3                   Gronnestad, Mr. Daniel Danielsen   \n",
              "693          694       3                                   Saad, Mr. Khalil   \n",
              "805          806       3                          Johansson, Mr. Karl Johan   \n",
              "\n",
              "        Sex   Age  newColuna  \n",
              "73     male  26.0 -12.916081  \n",
              "85   female  33.0 -16.847062  \n",
              "148    male  36.5 -19.374121  \n",
              "652    male  21.0 -10.108237  \n",
              "141  female  22.0 -10.669806  \n",
              "..      ...   ...        ...  \n",
              "199  female  24.0 -12.354512  \n",
              "179    male  36.0 -18.531768  \n",
              "769    male  32.0 -16.285493  \n",
              "693    male  25.0 -12.354512  \n",
              "805    male  31.0 -15.723924  \n",
              "\n",
              "[372 rows x 6 columns]"
            ],
            "text/html": [
              "\n",
              "  <div id=\"df-faf88fce-305c-4d81-ba88-ed8093167727\">\n",
              "    <div class=\"colab-df-container\">\n",
              "      <div>\n",
              "<style scoped>\n",
              "    .dataframe tbody tr th:only-of-type {\n",
              "        vertical-align: middle;\n",
              "    }\n",
              "\n",
              "    .dataframe tbody tr th {\n",
              "        vertical-align: top;\n",
              "    }\n",
              "\n",
              "    .dataframe thead th {\n",
              "        text-align: right;\n",
              "    }\n",
              "</style>\n",
              "<table border=\"1\" class=\"dataframe\">\n",
              "  <thead>\n",
              "    <tr style=\"text-align: right;\">\n",
              "      <th></th>\n",
              "      <th>PassengerId</th>\n",
              "      <th>Pclass</th>\n",
              "      <th>Name</th>\n",
              "      <th>Sex</th>\n",
              "      <th>Age</th>\n",
              "      <th>newColuna</th>\n",
              "    </tr>\n",
              "  </thead>\n",
              "  <tbody>\n",
              "    <tr>\n",
              "      <th>73</th>\n",
              "      <td>74</td>\n",
              "      <td>3</td>\n",
              "      <td>Chronopoulos, Mr. Apostolos</td>\n",
              "      <td>male</td>\n",
              "      <td>26.0</td>\n",
              "      <td>-12.916081</td>\n",
              "    </tr>\n",
              "    <tr>\n",
              "      <th>85</th>\n",
              "      <td>86</td>\n",
              "      <td>3</td>\n",
              "      <td>Backstrom, Mrs. Karl Alfred (Maria Mathilda Gu...</td>\n",
              "      <td>female</td>\n",
              "      <td>33.0</td>\n",
              "      <td>-16.847062</td>\n",
              "    </tr>\n",
              "    <tr>\n",
              "      <th>148</th>\n",
              "      <td>149</td>\n",
              "      <td>2</td>\n",
              "      <td>Navratil, Mr. Michel (\"Louis M Hoffman\")</td>\n",
              "      <td>male</td>\n",
              "      <td>36.5</td>\n",
              "      <td>-19.374121</td>\n",
              "    </tr>\n",
              "    <tr>\n",
              "      <th>652</th>\n",
              "      <td>653</td>\n",
              "      <td>3</td>\n",
              "      <td>Kalvik, Mr. Johannes Halvorsen</td>\n",
              "      <td>male</td>\n",
              "      <td>21.0</td>\n",
              "      <td>-10.108237</td>\n",
              "    </tr>\n",
              "    <tr>\n",
              "      <th>141</th>\n",
              "      <td>142</td>\n",
              "      <td>3</td>\n",
              "      <td>Nysten, Miss. Anna Sofia</td>\n",
              "      <td>female</td>\n",
              "      <td>22.0</td>\n",
              "      <td>-10.669806</td>\n",
              "    </tr>\n",
              "    <tr>\n",
              "      <th>...</th>\n",
              "      <td>...</td>\n",
              "      <td>...</td>\n",
              "      <td>...</td>\n",
              "      <td>...</td>\n",
              "      <td>...</td>\n",
              "      <td>...</td>\n",
              "    </tr>\n",
              "    <tr>\n",
              "      <th>199</th>\n",
              "      <td>200</td>\n",
              "      <td>2</td>\n",
              "      <td>Yrois, Miss. Henriette (\"Mrs Harbeck\")</td>\n",
              "      <td>female</td>\n",
              "      <td>24.0</td>\n",
              "      <td>-12.354512</td>\n",
              "    </tr>\n",
              "    <tr>\n",
              "      <th>179</th>\n",
              "      <td>180</td>\n",
              "      <td>3</td>\n",
              "      <td>Leonard, Mr. Lionel</td>\n",
              "      <td>male</td>\n",
              "      <td>36.0</td>\n",
              "      <td>-18.531768</td>\n",
              "    </tr>\n",
              "    <tr>\n",
              "      <th>769</th>\n",
              "      <td>770</td>\n",
              "      <td>3</td>\n",
              "      <td>Gronnestad, Mr. Daniel Danielsen</td>\n",
              "      <td>male</td>\n",
              "      <td>32.0</td>\n",
              "      <td>-16.285493</td>\n",
              "    </tr>\n",
              "    <tr>\n",
              "      <th>693</th>\n",
              "      <td>694</td>\n",
              "      <td>3</td>\n",
              "      <td>Saad, Mr. Khalil</td>\n",
              "      <td>male</td>\n",
              "      <td>25.0</td>\n",
              "      <td>-12.354512</td>\n",
              "    </tr>\n",
              "    <tr>\n",
              "      <th>805</th>\n",
              "      <td>806</td>\n",
              "      <td>3</td>\n",
              "      <td>Johansson, Mr. Karl Johan</td>\n",
              "      <td>male</td>\n",
              "      <td>31.0</td>\n",
              "      <td>-15.723924</td>\n",
              "    </tr>\n",
              "  </tbody>\n",
              "</table>\n",
              "<p>372 rows × 6 columns</p>\n",
              "</div>\n",
              "      <button class=\"colab-df-convert\" onclick=\"convertToInteractive('df-faf88fce-305c-4d81-ba88-ed8093167727')\"\n",
              "              title=\"Convert this dataframe to an interactive table.\"\n",
              "              style=\"display:none;\">\n",
              "        \n",
              "  <svg xmlns=\"http://www.w3.org/2000/svg\" height=\"24px\"viewBox=\"0 0 24 24\"\n",
              "       width=\"24px\">\n",
              "    <path d=\"M0 0h24v24H0V0z\" fill=\"none\"/>\n",
              "    <path d=\"M18.56 5.44l.94 2.06.94-2.06 2.06-.94-2.06-.94-.94-2.06-.94 2.06-2.06.94zm-11 1L8.5 8.5l.94-2.06 2.06-.94-2.06-.94L8.5 2.5l-.94 2.06-2.06.94zm10 10l.94 2.06.94-2.06 2.06-.94-2.06-.94-.94-2.06-.94 2.06-2.06.94z\"/><path d=\"M17.41 7.96l-1.37-1.37c-.4-.4-.92-.59-1.43-.59-.52 0-1.04.2-1.43.59L10.3 9.45l-7.72 7.72c-.78.78-.78 2.05 0 2.83L4 21.41c.39.39.9.59 1.41.59.51 0 1.02-.2 1.41-.59l7.78-7.78 2.81-2.81c.8-.78.8-2.07 0-2.86zM5.41 20L4 18.59l7.72-7.72 1.47 1.35L5.41 20z\"/>\n",
              "  </svg>\n",
              "      </button>\n",
              "      \n",
              "  <style>\n",
              "    .colab-df-container {\n",
              "      display:flex;\n",
              "      flex-wrap:wrap;\n",
              "      gap: 12px;\n",
              "    }\n",
              "\n",
              "    .colab-df-convert {\n",
              "      background-color: #E8F0FE;\n",
              "      border: none;\n",
              "      border-radius: 50%;\n",
              "      cursor: pointer;\n",
              "      display: none;\n",
              "      fill: #1967D2;\n",
              "      height: 32px;\n",
              "      padding: 0 0 0 0;\n",
              "      width: 32px;\n",
              "    }\n",
              "\n",
              "    .colab-df-convert:hover {\n",
              "      background-color: #E2EBFA;\n",
              "      box-shadow: 0px 1px 2px rgba(60, 64, 67, 0.3), 0px 1px 3px 1px rgba(60, 64, 67, 0.15);\n",
              "      fill: #174EA6;\n",
              "    }\n",
              "\n",
              "    [theme=dark] .colab-df-convert {\n",
              "      background-color: #3B4455;\n",
              "      fill: #D2E3FC;\n",
              "    }\n",
              "\n",
              "    [theme=dark] .colab-df-convert:hover {\n",
              "      background-color: #434B5C;\n",
              "      box-shadow: 0px 1px 3px 1px rgba(0, 0, 0, 0.15);\n",
              "      filter: drop-shadow(0px 1px 2px rgba(0, 0, 0, 0.3));\n",
              "      fill: #FFFFFF;\n",
              "    }\n",
              "  </style>\n",
              "\n",
              "      <script>\n",
              "        const buttonEl =\n",
              "          document.querySelector('#df-faf88fce-305c-4d81-ba88-ed8093167727 button.colab-df-convert');\n",
              "        buttonEl.style.display =\n",
              "          google.colab.kernel.accessAllowed ? 'block' : 'none';\n",
              "\n",
              "        async function convertToInteractive(key) {\n",
              "          const element = document.querySelector('#df-faf88fce-305c-4d81-ba88-ed8093167727');\n",
              "          const dataTable =\n",
              "            await google.colab.kernel.invokeFunction('convertToInteractive',\n",
              "                                                     [key], {});\n",
              "          if (!dataTable) return;\n",
              "\n",
              "          const docLinkHtml = 'Like what you see? Visit the ' +\n",
              "            '<a target=\"_blank\" href=https://colab.research.google.com/notebooks/data_table.ipynb>data table notebook</a>'\n",
              "            + ' to learn more about interactive tables.';\n",
              "          element.innerHTML = '';\n",
              "          dataTable['output_type'] = 'display_data';\n",
              "          await google.colab.output.renderOutput(dataTable, element);\n",
              "          const docLink = document.createElement('div');\n",
              "          docLink.innerHTML = docLinkHtml;\n",
              "          element.appendChild(docLink);\n",
              "        }\n",
              "      </script>\n",
              "    </div>\n",
              "  </div>\n",
              "  "
            ]
          },
          "metadata": {},
          "execution_count": 9
        }
      ]
    },
    {
      "cell_type": "markdown",
      "source": [
        "#Ordene o Dataframe seguindo um critério definido por você (Explique o critério)"
      ],
      "metadata": {
        "id": "dzyKQBeORESL"
      }
    },
    {
      "cell_type": "code",
      "source": [
        "newTitanic = newTitanic.sort_values(by=\"Name\",ascending=False) \n",
        "display(newTitanic)\n",
        "\n",
        "# O critério escolhido foi que os itens da coluna \"Name\" serão organizados por ordem decrescente, ou seja, a ordem que o python reconhece das letras do alfabeto, com distinção entre letras maiúculas e minúsculas."
      ],
      "metadata": {
        "colab": {
          "base_uri": "https://localhost:8080/",
          "height": 424
        },
        "id": "M-V5t__tRTHD",
        "outputId": "ab2b77ba-b244-4263-993c-c28c70777e8b"
      },
      "execution_count": 10,
      "outputs": [
        {
          "output_type": "display_data",
          "data": {
            "text/plain": [
              "     PassengerId  Pclass                                          Name  \\\n",
              "361          362       2                     del Carlo, Mr. Sebastiano   \n",
              "286          287       3                       de Mulder, Mr. Theodore   \n",
              "559          560       3  de Messemaeker, Mrs. Guillaume Joseph (Emma)   \n",
              "422          423       3                            Zimmerman, Mr. Leo   \n",
              "199          200       2        Yrois, Miss. Henriette (\"Mrs Harbeck\")   \n",
              "..           ...     ...                                           ...   \n",
              "401          402       3                               Adams, Mr. John   \n",
              "365          366       3                Adahl, Mr. Mauritz Nils Martin   \n",
              "874          875       2         Abelson, Mrs. Samuel (Hannah Wizosky)   \n",
              "308          309       2                           Abelson, Mr. Samuel   \n",
              "279          280       3              Abbott, Mrs. Stanton (Rosa Hunt)   \n",
              "\n",
              "        Sex   Age  newColuna  \n",
              "361    male  29.0 -15.162356  \n",
              "286    male  30.0 -15.162356  \n",
              "559  female  36.0 -18.531768  \n",
              "422    male  29.0 -14.600787  \n",
              "199  female  24.0 -12.354512  \n",
              "..      ...   ...        ...  \n",
              "401    male  26.0 -12.916081  \n",
              "365    male  30.0 -15.162356  \n",
              "874  female  28.0 -14.600787  \n",
              "308    male  30.0 -15.723924  \n",
              "279  female  35.0 -17.970199  \n",
              "\n",
              "[372 rows x 6 columns]"
            ],
            "text/html": [
              "\n",
              "  <div id=\"df-00f56443-aa3f-4ddb-a824-0f15c862e268\">\n",
              "    <div class=\"colab-df-container\">\n",
              "      <div>\n",
              "<style scoped>\n",
              "    .dataframe tbody tr th:only-of-type {\n",
              "        vertical-align: middle;\n",
              "    }\n",
              "\n",
              "    .dataframe tbody tr th {\n",
              "        vertical-align: top;\n",
              "    }\n",
              "\n",
              "    .dataframe thead th {\n",
              "        text-align: right;\n",
              "    }\n",
              "</style>\n",
              "<table border=\"1\" class=\"dataframe\">\n",
              "  <thead>\n",
              "    <tr style=\"text-align: right;\">\n",
              "      <th></th>\n",
              "      <th>PassengerId</th>\n",
              "      <th>Pclass</th>\n",
              "      <th>Name</th>\n",
              "      <th>Sex</th>\n",
              "      <th>Age</th>\n",
              "      <th>newColuna</th>\n",
              "    </tr>\n",
              "  </thead>\n",
              "  <tbody>\n",
              "    <tr>\n",
              "      <th>361</th>\n",
              "      <td>362</td>\n",
              "      <td>2</td>\n",
              "      <td>del Carlo, Mr. Sebastiano</td>\n",
              "      <td>male</td>\n",
              "      <td>29.0</td>\n",
              "      <td>-15.162356</td>\n",
              "    </tr>\n",
              "    <tr>\n",
              "      <th>286</th>\n",
              "      <td>287</td>\n",
              "      <td>3</td>\n",
              "      <td>de Mulder, Mr. Theodore</td>\n",
              "      <td>male</td>\n",
              "      <td>30.0</td>\n",
              "      <td>-15.162356</td>\n",
              "    </tr>\n",
              "    <tr>\n",
              "      <th>559</th>\n",
              "      <td>560</td>\n",
              "      <td>3</td>\n",
              "      <td>de Messemaeker, Mrs. Guillaume Joseph (Emma)</td>\n",
              "      <td>female</td>\n",
              "      <td>36.0</td>\n",
              "      <td>-18.531768</td>\n",
              "    </tr>\n",
              "    <tr>\n",
              "      <th>422</th>\n",
              "      <td>423</td>\n",
              "      <td>3</td>\n",
              "      <td>Zimmerman, Mr. Leo</td>\n",
              "      <td>male</td>\n",
              "      <td>29.0</td>\n",
              "      <td>-14.600787</td>\n",
              "    </tr>\n",
              "    <tr>\n",
              "      <th>199</th>\n",
              "      <td>200</td>\n",
              "      <td>2</td>\n",
              "      <td>Yrois, Miss. Henriette (\"Mrs Harbeck\")</td>\n",
              "      <td>female</td>\n",
              "      <td>24.0</td>\n",
              "      <td>-12.354512</td>\n",
              "    </tr>\n",
              "    <tr>\n",
              "      <th>...</th>\n",
              "      <td>...</td>\n",
              "      <td>...</td>\n",
              "      <td>...</td>\n",
              "      <td>...</td>\n",
              "      <td>...</td>\n",
              "      <td>...</td>\n",
              "    </tr>\n",
              "    <tr>\n",
              "      <th>401</th>\n",
              "      <td>402</td>\n",
              "      <td>3</td>\n",
              "      <td>Adams, Mr. John</td>\n",
              "      <td>male</td>\n",
              "      <td>26.0</td>\n",
              "      <td>-12.916081</td>\n",
              "    </tr>\n",
              "    <tr>\n",
              "      <th>365</th>\n",
              "      <td>366</td>\n",
              "      <td>3</td>\n",
              "      <td>Adahl, Mr. Mauritz Nils Martin</td>\n",
              "      <td>male</td>\n",
              "      <td>30.0</td>\n",
              "      <td>-15.162356</td>\n",
              "    </tr>\n",
              "    <tr>\n",
              "      <th>874</th>\n",
              "      <td>875</td>\n",
              "      <td>2</td>\n",
              "      <td>Abelson, Mrs. Samuel (Hannah Wizosky)</td>\n",
              "      <td>female</td>\n",
              "      <td>28.0</td>\n",
              "      <td>-14.600787</td>\n",
              "    </tr>\n",
              "    <tr>\n",
              "      <th>308</th>\n",
              "      <td>309</td>\n",
              "      <td>2</td>\n",
              "      <td>Abelson, Mr. Samuel</td>\n",
              "      <td>male</td>\n",
              "      <td>30.0</td>\n",
              "      <td>-15.723924</td>\n",
              "    </tr>\n",
              "    <tr>\n",
              "      <th>279</th>\n",
              "      <td>280</td>\n",
              "      <td>3</td>\n",
              "      <td>Abbott, Mrs. Stanton (Rosa Hunt)</td>\n",
              "      <td>female</td>\n",
              "      <td>35.0</td>\n",
              "      <td>-17.970199</td>\n",
              "    </tr>\n",
              "  </tbody>\n",
              "</table>\n",
              "<p>372 rows × 6 columns</p>\n",
              "</div>\n",
              "      <button class=\"colab-df-convert\" onclick=\"convertToInteractive('df-00f56443-aa3f-4ddb-a824-0f15c862e268')\"\n",
              "              title=\"Convert this dataframe to an interactive table.\"\n",
              "              style=\"display:none;\">\n",
              "        \n",
              "  <svg xmlns=\"http://www.w3.org/2000/svg\" height=\"24px\"viewBox=\"0 0 24 24\"\n",
              "       width=\"24px\">\n",
              "    <path d=\"M0 0h24v24H0V0z\" fill=\"none\"/>\n",
              "    <path d=\"M18.56 5.44l.94 2.06.94-2.06 2.06-.94-2.06-.94-.94-2.06-.94 2.06-2.06.94zm-11 1L8.5 8.5l.94-2.06 2.06-.94-2.06-.94L8.5 2.5l-.94 2.06-2.06.94zm10 10l.94 2.06.94-2.06 2.06-.94-2.06-.94-.94-2.06-.94 2.06-2.06.94z\"/><path d=\"M17.41 7.96l-1.37-1.37c-.4-.4-.92-.59-1.43-.59-.52 0-1.04.2-1.43.59L10.3 9.45l-7.72 7.72c-.78.78-.78 2.05 0 2.83L4 21.41c.39.39.9.59 1.41.59.51 0 1.02-.2 1.41-.59l7.78-7.78 2.81-2.81c.8-.78.8-2.07 0-2.86zM5.41 20L4 18.59l7.72-7.72 1.47 1.35L5.41 20z\"/>\n",
              "  </svg>\n",
              "      </button>\n",
              "      \n",
              "  <style>\n",
              "    .colab-df-container {\n",
              "      display:flex;\n",
              "      flex-wrap:wrap;\n",
              "      gap: 12px;\n",
              "    }\n",
              "\n",
              "    .colab-df-convert {\n",
              "      background-color: #E8F0FE;\n",
              "      border: none;\n",
              "      border-radius: 50%;\n",
              "      cursor: pointer;\n",
              "      display: none;\n",
              "      fill: #1967D2;\n",
              "      height: 32px;\n",
              "      padding: 0 0 0 0;\n",
              "      width: 32px;\n",
              "    }\n",
              "\n",
              "    .colab-df-convert:hover {\n",
              "      background-color: #E2EBFA;\n",
              "      box-shadow: 0px 1px 2px rgba(60, 64, 67, 0.3), 0px 1px 3px 1px rgba(60, 64, 67, 0.15);\n",
              "      fill: #174EA6;\n",
              "    }\n",
              "\n",
              "    [theme=dark] .colab-df-convert {\n",
              "      background-color: #3B4455;\n",
              "      fill: #D2E3FC;\n",
              "    }\n",
              "\n",
              "    [theme=dark] .colab-df-convert:hover {\n",
              "      background-color: #434B5C;\n",
              "      box-shadow: 0px 1px 3px 1px rgba(0, 0, 0, 0.15);\n",
              "      filter: drop-shadow(0px 1px 2px rgba(0, 0, 0, 0.3));\n",
              "      fill: #FFFFFF;\n",
              "    }\n",
              "  </style>\n",
              "\n",
              "      <script>\n",
              "        const buttonEl =\n",
              "          document.querySelector('#df-00f56443-aa3f-4ddb-a824-0f15c862e268 button.colab-df-convert');\n",
              "        buttonEl.style.display =\n",
              "          google.colab.kernel.accessAllowed ? 'block' : 'none';\n",
              "\n",
              "        async function convertToInteractive(key) {\n",
              "          const element = document.querySelector('#df-00f56443-aa3f-4ddb-a824-0f15c862e268');\n",
              "          const dataTable =\n",
              "            await google.colab.kernel.invokeFunction('convertToInteractive',\n",
              "                                                     [key], {});\n",
              "          if (!dataTable) return;\n",
              "\n",
              "          const docLinkHtml = 'Like what you see? Visit the ' +\n",
              "            '<a target=\"_blank\" href=https://colab.research.google.com/notebooks/data_table.ipynb>data table notebook</a>'\n",
              "            + ' to learn more about interactive tables.';\n",
              "          element.innerHTML = '';\n",
              "          dataTable['output_type'] = 'display_data';\n",
              "          await google.colab.output.renderOutput(dataTable, element);\n",
              "          const docLink = document.createElement('div');\n",
              "          docLink.innerHTML = docLinkHtml;\n",
              "          element.appendChild(docLink);\n",
              "        }\n",
              "      </script>\n",
              "    </div>\n",
              "  </div>\n",
              "  "
            ]
          },
          "metadata": {}
        }
      ]
    },
    {
      "cell_type": "markdown",
      "source": [
        "#Escolha uma coluna numérica e um coluna com strings e utilize a função Groupby para mostrar os totais da  coluna."
      ],
      "metadata": {
        "id": "TKCstW2ESqnD"
      }
    },
    {
      "cell_type": "code",
      "source": [
        "colunas = newTitanic.groupby(\"Age\")[[\"Sex\"]].count()  \n",
        "print(colunas)"
      ],
      "metadata": {
        "colab": {
          "base_uri": "https://localhost:8080/"
        },
        "id": "76pKkwtKSvKA",
        "outputId": "a82b6314-7a59-4c1a-dd8c-91737b6d20f4"
      },
      "execution_count": 11,
      "outputs": [
        {
          "output_type": "stream",
          "name": "stdout",
          "text": [
            "      Sex\n",
            "Age      \n",
            "20.5    1\n",
            "21.0   24\n",
            "22.0   27\n",
            "23.0   15\n",
            "23.5    1\n",
            "24.0   30\n",
            "24.5    1\n",
            "25.0   23\n",
            "26.0   18\n",
            "27.0   18\n",
            "28.0   25\n",
            "28.5    2\n",
            "29.0   20\n",
            "30.0   25\n",
            "30.5    2\n",
            "31.0   17\n",
            "32.0   18\n",
            "32.5    2\n",
            "33.0   15\n",
            "34.0   15\n",
            "34.5    1\n",
            "35.0   18\n",
            "36.0   22\n",
            "36.5    1\n",
            "37.0    6\n",
            "38.0   11\n",
            "39.0   14\n"
          ]
        }
      ]
    },
    {
      "cell_type": "markdown",
      "source": [
        "#Utilize a função MAPS para fazer algum tipo de substituição no Dataframe (explique)"
      ],
      "metadata": {
        "id": "Mt_SGrtiXxec"
      }
    },
    {
      "cell_type": "code",
      "source": [
        "newTitanic[\"Sex\"] = newTitanic[\"Sex\"].map('Sex: {}'.format) \n",
        "# A coluna \"Sex\" agora tem uma \"etiqueta\" ao lado da opção escolhida\n",
        "display(newTitanic)"
      ],
      "metadata": {
        "colab": {
          "base_uri": "https://localhost:8080/",
          "height": 424
        },
        "id": "fMH-XS-DX49k",
        "outputId": "ac5c1890-454d-4836-c4db-ba908bdb4d6c"
      },
      "execution_count": 12,
      "outputs": [
        {
          "output_type": "display_data",
          "data": {
            "text/plain": [
              "     PassengerId  Pclass                                          Name  \\\n",
              "361          362       2                     del Carlo, Mr. Sebastiano   \n",
              "286          287       3                       de Mulder, Mr. Theodore   \n",
              "559          560       3  de Messemaeker, Mrs. Guillaume Joseph (Emma)   \n",
              "422          423       3                            Zimmerman, Mr. Leo   \n",
              "199          200       2        Yrois, Miss. Henriette (\"Mrs Harbeck\")   \n",
              "..           ...     ...                                           ...   \n",
              "401          402       3                               Adams, Mr. John   \n",
              "365          366       3                Adahl, Mr. Mauritz Nils Martin   \n",
              "874          875       2         Abelson, Mrs. Samuel (Hannah Wizosky)   \n",
              "308          309       2                           Abelson, Mr. Samuel   \n",
              "279          280       3              Abbott, Mrs. Stanton (Rosa Hunt)   \n",
              "\n",
              "             Sex   Age  newColuna  \n",
              "361    Sex: male  29.0 -15.162356  \n",
              "286    Sex: male  30.0 -15.162356  \n",
              "559  Sex: female  36.0 -18.531768  \n",
              "422    Sex: male  29.0 -14.600787  \n",
              "199  Sex: female  24.0 -12.354512  \n",
              "..           ...   ...        ...  \n",
              "401    Sex: male  26.0 -12.916081  \n",
              "365    Sex: male  30.0 -15.162356  \n",
              "874  Sex: female  28.0 -14.600787  \n",
              "308    Sex: male  30.0 -15.723924  \n",
              "279  Sex: female  35.0 -17.970199  \n",
              "\n",
              "[372 rows x 6 columns]"
            ],
            "text/html": [
              "\n",
              "  <div id=\"df-09006bda-1611-4838-a682-f5e2bf0f914f\">\n",
              "    <div class=\"colab-df-container\">\n",
              "      <div>\n",
              "<style scoped>\n",
              "    .dataframe tbody tr th:only-of-type {\n",
              "        vertical-align: middle;\n",
              "    }\n",
              "\n",
              "    .dataframe tbody tr th {\n",
              "        vertical-align: top;\n",
              "    }\n",
              "\n",
              "    .dataframe thead th {\n",
              "        text-align: right;\n",
              "    }\n",
              "</style>\n",
              "<table border=\"1\" class=\"dataframe\">\n",
              "  <thead>\n",
              "    <tr style=\"text-align: right;\">\n",
              "      <th></th>\n",
              "      <th>PassengerId</th>\n",
              "      <th>Pclass</th>\n",
              "      <th>Name</th>\n",
              "      <th>Sex</th>\n",
              "      <th>Age</th>\n",
              "      <th>newColuna</th>\n",
              "    </tr>\n",
              "  </thead>\n",
              "  <tbody>\n",
              "    <tr>\n",
              "      <th>361</th>\n",
              "      <td>362</td>\n",
              "      <td>2</td>\n",
              "      <td>del Carlo, Mr. Sebastiano</td>\n",
              "      <td>Sex: male</td>\n",
              "      <td>29.0</td>\n",
              "      <td>-15.162356</td>\n",
              "    </tr>\n",
              "    <tr>\n",
              "      <th>286</th>\n",
              "      <td>287</td>\n",
              "      <td>3</td>\n",
              "      <td>de Mulder, Mr. Theodore</td>\n",
              "      <td>Sex: male</td>\n",
              "      <td>30.0</td>\n",
              "      <td>-15.162356</td>\n",
              "    </tr>\n",
              "    <tr>\n",
              "      <th>559</th>\n",
              "      <td>560</td>\n",
              "      <td>3</td>\n",
              "      <td>de Messemaeker, Mrs. Guillaume Joseph (Emma)</td>\n",
              "      <td>Sex: female</td>\n",
              "      <td>36.0</td>\n",
              "      <td>-18.531768</td>\n",
              "    </tr>\n",
              "    <tr>\n",
              "      <th>422</th>\n",
              "      <td>423</td>\n",
              "      <td>3</td>\n",
              "      <td>Zimmerman, Mr. Leo</td>\n",
              "      <td>Sex: male</td>\n",
              "      <td>29.0</td>\n",
              "      <td>-14.600787</td>\n",
              "    </tr>\n",
              "    <tr>\n",
              "      <th>199</th>\n",
              "      <td>200</td>\n",
              "      <td>2</td>\n",
              "      <td>Yrois, Miss. Henriette (\"Mrs Harbeck\")</td>\n",
              "      <td>Sex: female</td>\n",
              "      <td>24.0</td>\n",
              "      <td>-12.354512</td>\n",
              "    </tr>\n",
              "    <tr>\n",
              "      <th>...</th>\n",
              "      <td>...</td>\n",
              "      <td>...</td>\n",
              "      <td>...</td>\n",
              "      <td>...</td>\n",
              "      <td>...</td>\n",
              "      <td>...</td>\n",
              "    </tr>\n",
              "    <tr>\n",
              "      <th>401</th>\n",
              "      <td>402</td>\n",
              "      <td>3</td>\n",
              "      <td>Adams, Mr. John</td>\n",
              "      <td>Sex: male</td>\n",
              "      <td>26.0</td>\n",
              "      <td>-12.916081</td>\n",
              "    </tr>\n",
              "    <tr>\n",
              "      <th>365</th>\n",
              "      <td>366</td>\n",
              "      <td>3</td>\n",
              "      <td>Adahl, Mr. Mauritz Nils Martin</td>\n",
              "      <td>Sex: male</td>\n",
              "      <td>30.0</td>\n",
              "      <td>-15.162356</td>\n",
              "    </tr>\n",
              "    <tr>\n",
              "      <th>874</th>\n",
              "      <td>875</td>\n",
              "      <td>2</td>\n",
              "      <td>Abelson, Mrs. Samuel (Hannah Wizosky)</td>\n",
              "      <td>Sex: female</td>\n",
              "      <td>28.0</td>\n",
              "      <td>-14.600787</td>\n",
              "    </tr>\n",
              "    <tr>\n",
              "      <th>308</th>\n",
              "      <td>309</td>\n",
              "      <td>2</td>\n",
              "      <td>Abelson, Mr. Samuel</td>\n",
              "      <td>Sex: male</td>\n",
              "      <td>30.0</td>\n",
              "      <td>-15.723924</td>\n",
              "    </tr>\n",
              "    <tr>\n",
              "      <th>279</th>\n",
              "      <td>280</td>\n",
              "      <td>3</td>\n",
              "      <td>Abbott, Mrs. Stanton (Rosa Hunt)</td>\n",
              "      <td>Sex: female</td>\n",
              "      <td>35.0</td>\n",
              "      <td>-17.970199</td>\n",
              "    </tr>\n",
              "  </tbody>\n",
              "</table>\n",
              "<p>372 rows × 6 columns</p>\n",
              "</div>\n",
              "      <button class=\"colab-df-convert\" onclick=\"convertToInteractive('df-09006bda-1611-4838-a682-f5e2bf0f914f')\"\n",
              "              title=\"Convert this dataframe to an interactive table.\"\n",
              "              style=\"display:none;\">\n",
              "        \n",
              "  <svg xmlns=\"http://www.w3.org/2000/svg\" height=\"24px\"viewBox=\"0 0 24 24\"\n",
              "       width=\"24px\">\n",
              "    <path d=\"M0 0h24v24H0V0z\" fill=\"none\"/>\n",
              "    <path d=\"M18.56 5.44l.94 2.06.94-2.06 2.06-.94-2.06-.94-.94-2.06-.94 2.06-2.06.94zm-11 1L8.5 8.5l.94-2.06 2.06-.94-2.06-.94L8.5 2.5l-.94 2.06-2.06.94zm10 10l.94 2.06.94-2.06 2.06-.94-2.06-.94-.94-2.06-.94 2.06-2.06.94z\"/><path d=\"M17.41 7.96l-1.37-1.37c-.4-.4-.92-.59-1.43-.59-.52 0-1.04.2-1.43.59L10.3 9.45l-7.72 7.72c-.78.78-.78 2.05 0 2.83L4 21.41c.39.39.9.59 1.41.59.51 0 1.02-.2 1.41-.59l7.78-7.78 2.81-2.81c.8-.78.8-2.07 0-2.86zM5.41 20L4 18.59l7.72-7.72 1.47 1.35L5.41 20z\"/>\n",
              "  </svg>\n",
              "      </button>\n",
              "      \n",
              "  <style>\n",
              "    .colab-df-container {\n",
              "      display:flex;\n",
              "      flex-wrap:wrap;\n",
              "      gap: 12px;\n",
              "    }\n",
              "\n",
              "    .colab-df-convert {\n",
              "      background-color: #E8F0FE;\n",
              "      border: none;\n",
              "      border-radius: 50%;\n",
              "      cursor: pointer;\n",
              "      display: none;\n",
              "      fill: #1967D2;\n",
              "      height: 32px;\n",
              "      padding: 0 0 0 0;\n",
              "      width: 32px;\n",
              "    }\n",
              "\n",
              "    .colab-df-convert:hover {\n",
              "      background-color: #E2EBFA;\n",
              "      box-shadow: 0px 1px 2px rgba(60, 64, 67, 0.3), 0px 1px 3px 1px rgba(60, 64, 67, 0.15);\n",
              "      fill: #174EA6;\n",
              "    }\n",
              "\n",
              "    [theme=dark] .colab-df-convert {\n",
              "      background-color: #3B4455;\n",
              "      fill: #D2E3FC;\n",
              "    }\n",
              "\n",
              "    [theme=dark] .colab-df-convert:hover {\n",
              "      background-color: #434B5C;\n",
              "      box-shadow: 0px 1px 3px 1px rgba(0, 0, 0, 0.15);\n",
              "      filter: drop-shadow(0px 1px 2px rgba(0, 0, 0, 0.3));\n",
              "      fill: #FFFFFF;\n",
              "    }\n",
              "  </style>\n",
              "\n",
              "      <script>\n",
              "        const buttonEl =\n",
              "          document.querySelector('#df-09006bda-1611-4838-a682-f5e2bf0f914f button.colab-df-convert');\n",
              "        buttonEl.style.display =\n",
              "          google.colab.kernel.accessAllowed ? 'block' : 'none';\n",
              "\n",
              "        async function convertToInteractive(key) {\n",
              "          const element = document.querySelector('#df-09006bda-1611-4838-a682-f5e2bf0f914f');\n",
              "          const dataTable =\n",
              "            await google.colab.kernel.invokeFunction('convertToInteractive',\n",
              "                                                     [key], {});\n",
              "          if (!dataTable) return;\n",
              "\n",
              "          const docLinkHtml = 'Like what you see? Visit the ' +\n",
              "            '<a target=\"_blank\" href=https://colab.research.google.com/notebooks/data_table.ipynb>data table notebook</a>'\n",
              "            + ' to learn more about interactive tables.';\n",
              "          element.innerHTML = '';\n",
              "          dataTable['output_type'] = 'display_data';\n",
              "          await google.colab.output.renderOutput(dataTable, element);\n",
              "          const docLink = document.createElement('div');\n",
              "          docLink.innerHTML = docLinkHtml;\n",
              "          element.appendChild(docLink);\n",
              "        }\n",
              "      </script>\n",
              "    </div>\n",
              "  </div>\n",
              "  "
            ]
          },
          "metadata": {}
        }
      ]
    },
    {
      "cell_type": "markdown",
      "source": [
        "#Exporte o último Dataframe para um arquivo CSV e salve no seu drive"
      ],
      "metadata": {
        "id": "UMSu4diIhcFy"
      }
    },
    {
      "cell_type": "code",
      "source": [
        "newTitanic.to_csv(\"/drive/MyDrive/newTitanic.csv\")"
      ],
      "metadata": {
        "id": "JLKHo-ZchrdD"
      },
      "execution_count": 13,
      "outputs": []
    },
    {
      "cell_type": "markdown",
      "source": [
        "#Exporte o mesmo Dataframe para um arquivo JSON e salve no seu drive"
      ],
      "metadata": {
        "id": "dvJCg3cPh7Qr"
      }
    },
    {
      "cell_type": "code",
      "source": [
        "arqjson = newTitanic.to_json(orient='table')\n",
        "with  open('/drive/MyDrive/newTitanic.json', 'w') as file:\n",
        "  file.write(arqjson)"
      ],
      "metadata": {
        "id": "wQeotrY8iAmT"
      },
      "execution_count": 14,
      "outputs": []
    }
  ]
}